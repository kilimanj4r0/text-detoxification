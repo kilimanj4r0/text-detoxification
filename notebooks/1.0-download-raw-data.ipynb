{
 "cells": [
  {
   "cell_type": "markdown",
   "metadata": {},
   "source": [
    "# Download raw data"
   ]
  },
  {
   "cell_type": "code",
   "execution_count": 1,
   "metadata": {},
   "outputs": [],
   "source": [
    "# Reference: https://stackoverflow.com/a/56951135\n",
    "import os\n",
    "import requests\n",
    "\n",
    "\n",
    "def download(url: str, dest_folder: str):\n",
    "    if not os.path.exists(dest_folder):\n",
    "        os.makedirs(dest_folder)  # create folder if it does not exist\n",
    "\n",
    "    filename = url.split('/')[-1].replace(\" \", \"_\")  # be careful with file names\n",
    "    file_path = os.path.join(dest_folder, filename)\n",
    "\n",
    "    r = requests.get(url, stream=True)\n",
    "    if r.ok:\n",
    "        print(\"saving to\", os.path.abspath(file_path))\n",
    "        with open(file_path, 'wb') as f:\n",
    "            for chunk in r.iter_content(chunk_size=1024 * 8):\n",
    "                if chunk:\n",
    "                    f.write(chunk)\n",
    "                    f.flush()\n",
    "                    os.fsync(f.fileno())\n",
    "    else:  # HTTP status code 4XX/5XX\n",
    "        print(\"Download failed: status code {}\\n{}\".format(r.status_code, r.text))"
   ]
  },
  {
   "cell_type": "code",
   "execution_count": null,
   "metadata": {},
   "outputs": [
    {
     "name": "stdout",
     "output_type": "stream",
     "text": [
      "saving to d:\\INNOPOLIS UNIVERSITY\\4th year\\PMLDL\\text-detoxification\\data\\raw\\filtered_paranmt.zip\n"
     ]
    }
   ],
   "source": [
    "filtered_paranmt_url = \"https://github.com/skoltech-nlp/detox/releases/download/emnlp2021/filtered_paranmt.zip\"\n",
    "data_raw_dir = \"../data/raw/\"\n",
    "download(filtered_paranmt_url, data_raw_dir)"
   ]
  },
  {
   "cell_type": "code",
   "execution_count": null,
   "metadata": {},
   "outputs": [
    {
     "name": "stdout",
     "output_type": "stream",
     "text": [
      "Unzipping ../data/raw/filtered_paranmt.zip to ../data/raw/\n"
     ]
    }
   ],
   "source": [
    "# Reference: https://stackoverflow.com/a/3451150\n",
    "from zipfile import ZipFile\n",
    "\n",
    "\n",
    "filtered_paranmt_zip_dir = data_raw_dir + filtered_paranmt_url.split('/')[-1]\n",
    "\n",
    "with ZipFile(filtered_paranmt_zip_dir, 'r') as zip_ref:\n",
    "    print(f'Unzipping {filtered_paranmt_zip_dir} to {data_raw_dir}')\n",
    "    zip_ref.extractall(data_raw_dir)"
   ]
  }
 ],
 "metadata": {
  "kernelspec": {
   "display_name": "vladimir-torch",
   "language": "python",
   "name": "python3"
  },
  "language_info": {
   "codemirror_mode": {
    "name": "ipython",
    "version": 3
   },
   "file_extension": ".py",
   "mimetype": "text/x-python",
   "name": "python",
   "nbconvert_exporter": "python",
   "pygments_lexer": "ipython3",
   "version": "3.10.12"
  }
 },
 "nbformat": 4,
 "nbformat_minor": 2
}
