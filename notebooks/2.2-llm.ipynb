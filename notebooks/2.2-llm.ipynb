{
 "cells": [
  {
   "cell_type": "markdown",
   "metadata": {},
   "source": [
    "# Experiment with Large Language Models"
   ]
  },
  {
   "cell_type": "markdown",
   "metadata": {},
   "source": []
  },
  {
   "cell_type": "code",
   "execution_count": 4,
   "metadata": {},
   "outputs": [
    {
     "data": {
      "text/html": [
       "<div>\n",
       "<style scoped>\n",
       "    .dataframe tbody tr th:only-of-type {\n",
       "        vertical-align: middle;\n",
       "    }\n",
       "\n",
       "    .dataframe tbody tr th {\n",
       "        vertical-align: top;\n",
       "    }\n",
       "\n",
       "    .dataframe thead th {\n",
       "        text-align: right;\n",
       "    }\n",
       "</style>\n",
       "<table border=\"1\" class=\"dataframe\">\n",
       "  <thead>\n",
       "    <tr style=\"text-align: right;\">\n",
       "      <th></th>\n",
       "      <th>reference</th>\n",
       "      <th>translation</th>\n",
       "      <th>similarity</th>\n",
       "      <th>lenght_diff</th>\n",
       "      <th>ref_tox</th>\n",
       "      <th>trn_tox</th>\n",
       "    </tr>\n",
       "  </thead>\n",
       "  <tbody>\n",
       "    <tr>\n",
       "      <th>0</th>\n",
       "      <td>if Alkar floods her with her mental waste, it ...</td>\n",
       "      <td>If Alkar is flooding her with psychic waste, t...</td>\n",
       "      <td>0.785171</td>\n",
       "      <td>0.010309</td>\n",
       "      <td>0.981983</td>\n",
       "      <td>0.014195</td>\n",
       "    </tr>\n",
       "    <tr>\n",
       "      <th>1</th>\n",
       "      <td>you're becoming disgusting.</td>\n",
       "      <td>Now you're getting nasty.</td>\n",
       "      <td>0.749687</td>\n",
       "      <td>0.071429</td>\n",
       "      <td>0.999039</td>\n",
       "      <td>0.065473</td>\n",
       "    </tr>\n",
       "    <tr>\n",
       "      <th>2</th>\n",
       "      <td>well, we can spare your life.</td>\n",
       "      <td>Well, we could spare your life, for one.</td>\n",
       "      <td>0.919051</td>\n",
       "      <td>0.268293</td>\n",
       "      <td>0.985068</td>\n",
       "      <td>0.213313</td>\n",
       "    </tr>\n",
       "    <tr>\n",
       "      <th>3</th>\n",
       "      <td>monkey, you have to wake up.</td>\n",
       "      <td>Ah! Monkey, you've got to snap out of it.</td>\n",
       "      <td>0.664333</td>\n",
       "      <td>0.309524</td>\n",
       "      <td>0.994215</td>\n",
       "      <td>0.053362</td>\n",
       "    </tr>\n",
       "    <tr>\n",
       "      <th>4</th>\n",
       "      <td>I have orders to kill her.</td>\n",
       "      <td>I've got orders to put her down.</td>\n",
       "      <td>0.726639</td>\n",
       "      <td>0.181818</td>\n",
       "      <td>0.999348</td>\n",
       "      <td>0.009402</td>\n",
       "    </tr>\n",
       "  </tbody>\n",
       "</table>\n",
       "</div>"
      ],
      "text/plain": [
       "                                           reference  \\\n",
       "0  if Alkar floods her with her mental waste, it ...   \n",
       "1                        you're becoming disgusting.   \n",
       "2                      well, we can spare your life.   \n",
       "3                       monkey, you have to wake up.   \n",
       "4                         I have orders to kill her.   \n",
       "\n",
       "                                         translation  similarity  lenght_diff  \\\n",
       "0  If Alkar is flooding her with psychic waste, t...    0.785171     0.010309   \n",
       "1                          Now you're getting nasty.    0.749687     0.071429   \n",
       "2           Well, we could spare your life, for one.    0.919051     0.268293   \n",
       "3          Ah! Monkey, you've got to snap out of it.    0.664333     0.309524   \n",
       "4                   I've got orders to put her down.    0.726639     0.181818   \n",
       "\n",
       "    ref_tox   trn_tox  \n",
       "0  0.981983  0.014195  \n",
       "1  0.999039  0.065473  \n",
       "2  0.985068  0.213313  \n",
       "3  0.994215  0.053362  \n",
       "4  0.999348  0.009402  "
      ]
     },
     "execution_count": 4,
     "metadata": {},
     "output_type": "execute_result"
    }
   ],
   "source": [
    "import pandas as pd\n",
    "\n",
    "\n",
    "# The data should be downloaded and preprocessed, use 1.0-download-raw-data.ipynb and 1.2-data-preprocessing.ipynb notebooks\n",
    "data_path = '../data/internal/preprocessed_filtered.csv'\n",
    "df = pd.read_csv(data_path, index_col=0)\n",
    "df.head()"
   ]
  },
  {
   "cell_type": "markdown",
   "metadata": {},
   "source": [
    "## Few-shot prompting of Llama 2 using LangChain framework "
   ]
  },
  {
   "cell_type": "code",
   "execution_count": 11,
   "metadata": {},
   "outputs": [
    {
     "data": {
      "text/plain": [
       "[{'reference': 'No, rosalee, That guy stuck a shotgun in my face.',\n",
       "  'translation': 'no, Rosalee, the guy shoved the shotgun in my face.'},\n",
       " {'reference': 'and don\\'t try to escape or I\\'ll whip you. \"',\n",
       "  'translation': \"``And don't try to escape or I'll beat you.\"},\n",
       " {'reference': 'then they shut up.', 'translation': 'They were silent then.'},\n",
       " {'reference': \"It's just a pity the programs you make are such garbage.\",\n",
       "  'translation': \"it's just a waste of the programs you make.\"},\n",
       " {'reference': 'I have no desire to kill Each of these tonight.',\n",
       "  'translation': \"I don't want to kill anyone tonight.\"},\n",
       " {'reference': \"And that's when we teach them something every human knows- payback's a bitch.\",\n",
       "  'translation': 'and then we teach them something that every man sees - retaliation is evil.'},\n",
       " {'reference': 'Guys in long-term relationships become so lame.',\n",
       "  'translation': \"men make long-term patients' long-term.\"},\n",
       " {'reference': \"Because I didn't kill him or jump off a building with him.\",\n",
       "  'translation': \"I didn't shoot him, he didn't even throw him off the roof.\"},\n",
       " {'reference': 'And now that your government has no further use of you... ...you are being thrown aside to starve and die.',\n",
       "  'translation': 'and now it is not for the Vas to be taken away...... when you have been put aside and you are both hungry and dying.'},\n",
       " {'reference': 'then again, under the death penalty, all home!',\n",
       "  'translation': 'Once more, on pain of death, all men depart!'}]"
      ]
     },
     "execution_count": 11,
     "metadata": {},
     "output_type": "execute_result"
    }
   ],
   "source": [
    "n_samples = 10\n",
    "sampled = df.sample(n=n_samples)\n",
    "zipped = zip(sampled['reference'], sampled['translation'])\n",
    "\n",
    "examples = []\n",
    "for ref, trn in zipped:\n",
    "    examples.append({\n",
    "        'reference': ref,\n",
    "        'translation': trn\n",
    "    })\n",
    "examples"
   ]
  },
  {
   "cell_type": "code",
   "execution_count": 12,
   "metadata": {},
   "outputs": [],
   "source": [
    "from langchain.llms import Ollama\n",
    "\n",
    "\n",
    "# 1. https://ollama.ai/download\n",
    "# 2. ollama serve\n",
    "# 3. ollama pull llama2\n",
    "llm = Ollama(model=\"llama2-uncensored\")"
   ]
  },
  {
   "cell_type": "code",
   "execution_count": 13,
   "metadata": {},
   "outputs": [],
   "source": [
    "from langchain import PromptTemplate, FewShotPromptTemplate, LLMChain\n",
    "\n",
    "\n",
    "example_template = \"\"\"\n",
    "Text with high toxic level: \"{reference}\"\n",
    "Paraphrased text with low toxic level: \"{translation}\"\n",
    "\"\"\"\n",
    "\n",
    "example_prompt = PromptTemplate(\n",
    "   input_variables=[\"reference\", \"translation\"],\n",
    "   template=example_template\n",
    ")\n",
    "prefix = \"\"\"The following are examples of text detoxification. Reference is usually text with high toxicity level, while Translation is its paraphrased version with low toxicity level. So your task is to write a Translation for the Reference so that toxicitily level will be low. Here are some examples (do not do anything with them):\n",
    "\"\"\"\n",
    "suffix = \"\"\"\n",
    "Paraphrase this Reference to text with low toxic level: \"{reference}\"\n",
    "\"\"\"\n",
    "\n",
    "\n",
    "few_shot_prompt_template = FewShotPromptTemplate(\n",
    "   examples=examples,\n",
    "   example_prompt=example_prompt,\n",
    "   prefix=prefix,\n",
    "   suffix=suffix,\n",
    "   input_variables=[\"reference\"],\n",
    "   example_separator=\"\\n\\n\"\n",
    ")"
   ]
  },
  {
   "cell_type": "code",
   "execution_count": 14,
   "metadata": {},
   "outputs": [],
   "source": [
    "fs_llm_chain = LLMChain(\n",
    "   prompt=few_shot_prompt_template,\n",
    "   llm=llm\n",
    ")"
   ]
  },
  {
   "cell_type": "markdown",
   "metadata": {},
   "source": [
    "### Test"
   ]
  },
  {
   "cell_type": "code",
   "execution_count": 15,
   "metadata": {},
   "outputs": [
    {
     "name": "stdout",
     "output_type": "stream",
     "text": [
      "                                                reference  \\\n",
      "390696                           Damn it, man! I told you   \n",
      "39468   And he set up a meeting between them... and th...   \n",
      "\n",
      "                                              translation  similarity  \\\n",
      "390696                                  hell, I told you.    0.759935   \n",
      "39468   and he should have arranged a meeting between ...    0.768622   \n",
      "\n",
      "        lenght_diff   ref_tox   trn_tox  \n",
      "390696     0.280000  0.999097  0.041374  \n",
      "39468      0.121212  0.997157  0.001438  \n"
     ]
    }
   ],
   "source": [
    "n_samples = 2\n",
    "sampled_test = df.sample(n=n_samples)\n",
    "print(sampled_test)\n",
    "zipped_test = zip(sampled_test['reference'], sampled_test['translation'])"
   ]
  },
  {
   "cell_type": "code",
   "execution_count": 16,
   "metadata": {},
   "outputs": [
    {
     "name": "stdout",
     "output_type": "stream",
     "text": [
      "Damn it, man! I told you\n",
      "hell, I told you.\n",
      "Here is a translation for the Reference so that toxicity level will be low:\n",
      "\n",
      "- No, Rosalee. The guy stuck a shotgun in my face. - No, Rosalee. The guy shoved the shotgun in my face.\n",
      "- And don't try to escape or I'll whip you.\" \"And don't try to escape or I'll beat you.\"\n",
      "- They were silent then. - They were silent then.\n",
      "- It's just a pity the programs you make are such garbage. - it's just a waste of the programs you make.\n",
      "- I have no desire to kill Each of these tonight. - I don't want to kill anyone tonight.\n",
      "- And that's when we teach them something every human knows- payback's a bitch.\" \"and then we teach them something that every man sees - retaliation is evil.\"\n",
      "- Guys in long-term relationships become so lame. \"men make long-term patients' long-term.\"\n",
      "- Because I didn't kill him or jump off a building with him. \"I didn't shoot him, he didn't even throw him off the roof.\"\n",
      "- And now that your government has no further use of you... ...you are being thrown aside to starve and die.\" \"and now it is not for the Vas to be taken away...... when you have been put aside and you are both hungry and dying.\"\n",
      "- Then again, under the death penalty, all home!\" \"Once more, on pain of death, all men depart!\"\n",
      "===\n",
      "And he set up a meeting between them... and this big nigger named... uh, Lester James.\n",
      "and he should have arranged a meeting between them... and one big negrel name... um, Lester James.\n",
      "Here is the Translation for the Reference: \n",
      "\"He arranged a meeting between them. A large black man named Lester James was involved in it.\"\n",
      "===\n"
     ]
    }
   ],
   "source": [
    "for ref, trn in zipped_test:\n",
    "    print(ref)\n",
    "    print(trn)\n",
    "    pred = fs_llm_chain.run(few_shot_prompt_template.format(reference=ref))\n",
    "    print(pred)\n",
    "    print('===')"
   ]
  },
  {
   "cell_type": "code",
   "execution_count": null,
   "metadata": {},
   "outputs": [],
   "source": []
  }
 ],
 "metadata": {
  "kernelspec": {
   "display_name": "vladimir-torch",
   "language": "python",
   "name": "python3"
  },
  "language_info": {
   "codemirror_mode": {
    "name": "ipython",
    "version": 3
   },
   "file_extension": ".py",
   "mimetype": "text/x-python",
   "name": "python",
   "nbconvert_exporter": "python",
   "pygments_lexer": "ipython3",
   "version": "3.10.12"
  }
 },
 "nbformat": 4,
 "nbformat_minor": 2
}
